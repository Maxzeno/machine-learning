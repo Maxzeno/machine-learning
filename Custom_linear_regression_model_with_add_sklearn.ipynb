{
  "nbformat": 4,
  "nbformat_minor": 0,
  "metadata": {
    "colab": {
      "provenance": [],
      "authorship_tag": "ABX9TyMBZCxKIcmNKJC4DLUdsVaf",
      "include_colab_link": true
    },
    "kernelspec": {
      "name": "python3",
      "display_name": "Python 3"
    },
    "language_info": {
      "name": "python"
    }
  },
  "cells": [
    {
      "cell_type": "markdown",
      "metadata": {
        "id": "view-in-github",
        "colab_type": "text"
      },
      "source": [
        "<a href=\"https://colab.research.google.com/github/Maxzeno/machine-learning/blob/main/Custom_linear_regression_model_with_add_sklearn.ipynb\" target=\"_parent\"><img src=\"https://colab.research.google.com/assets/colab-badge.svg\" alt=\"Open In Colab\"/></a>"
      ]
    },
    {
      "cell_type": "code",
      "source": [
        "import numpy as np\n",
        "from sklearn.preprocessing import PolynomialFeatures\n",
        "from sklearn.linear_model import LinearRegression\n",
        "from sklearn.model_selection import train_test_split\n",
        "import matplotlib.pyplot as plt\n",
        "%matplotlib inline"
      ],
      "metadata": {
        "id": "EqwBKIMHIs2q"
      },
      "execution_count": 446,
      "outputs": []
    },
    {
      "cell_type": "code",
      "execution_count": 447,
      "metadata": {
        "id": "eXNlqssHCkfc"
      },
      "outputs": [],
      "source": [
        "class CustomPolynomialRegression:\n",
        "    def __init__(self, degree=2, learning_rate=0.01, num_iterations=1000):\n",
        "        self.degree = degree\n",
        "        self.learning_rate = learning_rate\n",
        "        self.num_iterations = num_iterations\n",
        "        self.theta = None\n",
        "\n",
        "    def generate_polynomial_features(self, X):\n",
        "        m, n = X.shape\n",
        "        X_poly = np.ones((m, 1))  # Initialize with ones for the bias term\n",
        "\n",
        "        for d in range(1, self.degree + 1):\n",
        "            for i in range(n):\n",
        "                X_poly = np.hstack((X_poly, np.power(X[:, i], d)))\n",
        "\n",
        "        return X_poly\n",
        "\n",
        "    def fit(self, X, y):\n",
        "        X_poly = self.generate_polynomial_features(X)\n",
        "        m, n = X_poly.shape\n",
        "        self.theta = np.zeros(n)  # Initialize with zeros\n",
        "\n",
        "        for _ in range(self.num_iterations):\n",
        "            predictions = np.dot(X_poly, self.theta)\n",
        "            error = predictions - y\n",
        "            gradient = np.dot(X_poly.T, error) / m\n",
        "            self.theta -= self.learning_rate * gradient\n",
        "\n",
        "    def predict(self, X):\n",
        "        X_poly = self.generate_polynomial_features(X)\n",
        "        return np.dot(X_poly, self.theta)"
      ]
    },
    {
      "cell_type": "code",
      "source": [
        "model = LinearRegression()\n",
        "poly_features = PolynomialFeatures()"
      ],
      "metadata": {
        "id": "d3yTYcDfC0Ag"
      },
      "execution_count": 448,
      "outputs": []
    },
    {
      "cell_type": "code",
      "source": [
        "# Random data\n",
        "X = np.arange(1, 101).reshape(-1, 2) \n",
        "X = X + X[::-1]\n",
        "X = X + np.random.randn(X.shape[0]*2).reshape(*X.shape)\n",
        "y = np.add(X[:, 0], X[:, 1]) * 10\n",
        "\n",
        "# onedim_x = X.reshape(-1)\n",
        "# y = (onedim_x + (onedim_x-1))*10\n",
        "y = y + np.random.randn(X.shape[0]) * 300"
      ],
      "metadata": {
        "id": "dGGtmbTuLl-G"
      },
      "execution_count": 449,
      "outputs": []
    },
    {
      "cell_type": "code",
      "source": [
        "# Split the data into training and test sets\n",
        "X_train, X_test, y_train, y_test = train_test_split(X, y, test_size=0.2) #, random_state=42)"
      ],
      "metadata": {
        "id": "Ff8IfDVvMQcw"
      },
      "execution_count": 450,
      "outputs": []
    },
    {
      "cell_type": "code",
      "source": [
        "X_train_poly = poly_features.fit_transform(X_train)\n",
        "X_test_poly = poly_features.transform(X_test)\n",
        "X_train_poly.shape, X_test_poly.shape"
      ],
      "metadata": {
        "colab": {
          "base_uri": "https://localhost:8080/"
        },
        "id": "4npKukkUDGmN",
        "outputId": "c074972e-a053-4405-e768-9cb1c1aae38a"
      },
      "execution_count": 451,
      "outputs": [
        {
          "output_type": "execute_result",
          "data": {
            "text/plain": [
              "((40, 6), (10, 6))"
            ]
          },
          "metadata": {},
          "execution_count": 451
        }
      ]
    },
    {
      "cell_type": "code",
      "source": [
        "model.fit(X_train_poly, y_train)"
      ],
      "metadata": {
        "colab": {
          "base_uri": "https://localhost:8080/",
          "height": 75
        },
        "id": "Df1CjctwDFIe",
        "outputId": "84b0d2c6-0617-426a-b306-45be4468c45b"
      },
      "execution_count": 452,
      "outputs": [
        {
          "output_type": "execute_result",
          "data": {
            "text/plain": [
              "LinearRegression()"
            ],
            "text/html": [
              "<style>#sk-container-id-29 {color: black;background-color: white;}#sk-container-id-29 pre{padding: 0;}#sk-container-id-29 div.sk-toggleable {background-color: white;}#sk-container-id-29 label.sk-toggleable__label {cursor: pointer;display: block;width: 100%;margin-bottom: 0;padding: 0.3em;box-sizing: border-box;text-align: center;}#sk-container-id-29 label.sk-toggleable__label-arrow:before {content: \"▸\";float: left;margin-right: 0.25em;color: #696969;}#sk-container-id-29 label.sk-toggleable__label-arrow:hover:before {color: black;}#sk-container-id-29 div.sk-estimator:hover label.sk-toggleable__label-arrow:before {color: black;}#sk-container-id-29 div.sk-toggleable__content {max-height: 0;max-width: 0;overflow: hidden;text-align: left;background-color: #f0f8ff;}#sk-container-id-29 div.sk-toggleable__content pre {margin: 0.2em;color: black;border-radius: 0.25em;background-color: #f0f8ff;}#sk-container-id-29 input.sk-toggleable__control:checked~div.sk-toggleable__content {max-height: 200px;max-width: 100%;overflow: auto;}#sk-container-id-29 input.sk-toggleable__control:checked~label.sk-toggleable__label-arrow:before {content: \"▾\";}#sk-container-id-29 div.sk-estimator input.sk-toggleable__control:checked~label.sk-toggleable__label {background-color: #d4ebff;}#sk-container-id-29 div.sk-label input.sk-toggleable__control:checked~label.sk-toggleable__label {background-color: #d4ebff;}#sk-container-id-29 input.sk-hidden--visually {border: 0;clip: rect(1px 1px 1px 1px);clip: rect(1px, 1px, 1px, 1px);height: 1px;margin: -1px;overflow: hidden;padding: 0;position: absolute;width: 1px;}#sk-container-id-29 div.sk-estimator {font-family: monospace;background-color: #f0f8ff;border: 1px dotted black;border-radius: 0.25em;box-sizing: border-box;margin-bottom: 0.5em;}#sk-container-id-29 div.sk-estimator:hover {background-color: #d4ebff;}#sk-container-id-29 div.sk-parallel-item::after {content: \"\";width: 100%;border-bottom: 1px solid gray;flex-grow: 1;}#sk-container-id-29 div.sk-label:hover label.sk-toggleable__label {background-color: #d4ebff;}#sk-container-id-29 div.sk-serial::before {content: \"\";position: absolute;border-left: 1px solid gray;box-sizing: border-box;top: 0;bottom: 0;left: 50%;z-index: 0;}#sk-container-id-29 div.sk-serial {display: flex;flex-direction: column;align-items: center;background-color: white;padding-right: 0.2em;padding-left: 0.2em;position: relative;}#sk-container-id-29 div.sk-item {position: relative;z-index: 1;}#sk-container-id-29 div.sk-parallel {display: flex;align-items: stretch;justify-content: center;background-color: white;position: relative;}#sk-container-id-29 div.sk-item::before, #sk-container-id-29 div.sk-parallel-item::before {content: \"\";position: absolute;border-left: 1px solid gray;box-sizing: border-box;top: 0;bottom: 0;left: 50%;z-index: -1;}#sk-container-id-29 div.sk-parallel-item {display: flex;flex-direction: column;z-index: 1;position: relative;background-color: white;}#sk-container-id-29 div.sk-parallel-item:first-child::after {align-self: flex-end;width: 50%;}#sk-container-id-29 div.sk-parallel-item:last-child::after {align-self: flex-start;width: 50%;}#sk-container-id-29 div.sk-parallel-item:only-child::after {width: 0;}#sk-container-id-29 div.sk-dashed-wrapped {border: 1px dashed gray;margin: 0 0.4em 0.5em 0.4em;box-sizing: border-box;padding-bottom: 0.4em;background-color: white;}#sk-container-id-29 div.sk-label label {font-family: monospace;font-weight: bold;display: inline-block;line-height: 1.2em;}#sk-container-id-29 div.sk-label-container {text-align: center;}#sk-container-id-29 div.sk-container {/* jupyter's `normalize.less` sets `[hidden] { display: none; }` but bootstrap.min.css set `[hidden] { display: none !important; }` so we also need the `!important` here to be able to override the default hidden behavior on the sphinx rendered scikit-learn.org. See: https://github.com/scikit-learn/scikit-learn/issues/21755 */display: inline-block !important;position: relative;}#sk-container-id-29 div.sk-text-repr-fallback {display: none;}</style><div id=\"sk-container-id-29\" class=\"sk-top-container\"><div class=\"sk-text-repr-fallback\"><pre>LinearRegression()</pre><b>In a Jupyter environment, please rerun this cell to show the HTML representation or trust the notebook. <br />On GitHub, the HTML representation is unable to render, please try loading this page with nbviewer.org.</b></div><div class=\"sk-container\" hidden><div class=\"sk-item\"><div class=\"sk-estimator sk-toggleable\"><input class=\"sk-toggleable__control sk-hidden--visually\" id=\"sk-estimator-id-29\" type=\"checkbox\" checked><label for=\"sk-estimator-id-29\" class=\"sk-toggleable__label sk-toggleable__label-arrow\">LinearRegression</label><div class=\"sk-toggleable__content\"><pre>LinearRegression()</pre></div></div></div></div></div>"
            ]
          },
          "metadata": {},
          "execution_count": 452
        }
      ]
    },
    {
      "cell_type": "code",
      "source": [
        "model.coef_, model.intercept_"
      ],
      "metadata": {
        "colab": {
          "base_uri": "https://localhost:8080/"
        },
        "id": "xmEnYYoEDF93",
        "outputId": "47461413-95d3-4393-d469-0b501bb91419"
      },
      "execution_count": 453,
      "outputs": [
        {
          "output_type": "execute_result",
          "data": {
            "text/plain": [
              "(array([    0.        , -7910.50920565,    79.372998  ,     7.9933065 ,\n",
              "           61.72353855,   -31.21930203]),\n",
              " 400357.9919195051)"
            ]
          },
          "metadata": {},
          "execution_count": 453
        }
      ]
    },
    {
      "cell_type": "code",
      "source": [
        "y_hat = model.predict(X_test_poly)"
      ],
      "metadata": {
        "id": "9e63vR6iLlWZ"
      },
      "execution_count": 454,
      "outputs": []
    },
    {
      "cell_type": "code",
      "source": [
        "\"\"\"\n",
        "w = model.coef_\n",
        "w[1] = 18\n",
        "b = model.intercept_\n",
        "index = 1\n",
        "for index in range(2):\n",
        " y_hat_feature = w[index]*X_test[:, index] + b\n",
        "\n",
        " plt.plot(X_test[:, index], y_hat_feature)\n",
        " plt.scatter(X_test[:, index], y_test)\n",
        " plt.xlabel(\"feature\")\n",
        " plt.ylabel(\"label\")\n",
        " plt.show()\n",
        "\"\"\""
      ],
      "metadata": {
        "id": "026WG7FxLkcJ",
        "colab": {
          "base_uri": "https://localhost:8080/",
          "height": 87
        },
        "outputId": "3aeb4558-7200-4a6d-98b4-9fe714f50c98"
      },
      "execution_count": 455,
      "outputs": [
        {
          "output_type": "execute_result",
          "data": {
            "text/plain": [
              "'\\nw = model.coef_\\nw[1] = 18\\nb = model.intercept_\\nindex = 1\\nfor index in range(2):\\n y_hat_feature = w[index]*X_test[:, index] + b\\n\\n plt.plot(X_test[:, index], y_hat_feature)\\n plt.scatter(X_test[:, index], y_test)\\n plt.xlabel(\"feature\")\\n plt.ylabel(\"label\")\\n plt.show()\\n'"
            ],
            "application/vnd.google.colaboratory.intrinsic+json": {
              "type": "string"
            }
          },
          "metadata": {},
          "execution_count": 455
        }
      ]
    },
    {
      "cell_type": "code",
      "source": [
        "model.score(X_test_poly, y_test)\n",
        "# model.score(X_train_poly, y_train)"
      ],
      "metadata": {
        "colab": {
          "base_uri": "https://localhost:8080/"
        },
        "id": "FMqEqG6xS-Uu",
        "outputId": "288c0ed7-739e-4ec3-9ab3-a55ccebe6c81"
      },
      "execution_count": 456,
      "outputs": [
        {
          "output_type": "execute_result",
          "data": {
            "text/plain": [
              "-0.241368265180965"
            ]
          },
          "metadata": {},
          "execution_count": 456
        }
      ]
    },
    {
      "cell_type": "code",
      "source": [
        "plt.plot(y_hat)\n",
        "plt.plot(y_test)\n",
        "plt.show()\n",
        "plt.scatter(X[:, 0], np.arange(0, X.shape[0]*X[:, 0].mean(), X[:, 0].mean()))\n",
        "plt.show()"
      ],
      "metadata": {
        "id": "GZWe_HfKDHf3",
        "colab": {
          "base_uri": "https://localhost:8080/",
          "height": 843
        },
        "outputId": "5385fae6-cd66-457b-e33c-3e53784c0eca"
      },
      "execution_count": 466,
      "outputs": [
        {
          "output_type": "display_data",
          "data": {
            "text/plain": [
              "<Figure size 640x480 with 1 Axes>"
            ],
            "image/png": "[encoded data removed]"
          },
          "metadata": {}
        },
        {
          "output_type": "display_data",
          "data": {
            "text/plain": [
              "<Figure size 640x480 with 1 Axes>"
            ],
            "image/png": "[encoded data removed]"
          },
          "metadata": {}
        }
      ]
    },
    {
      "cell_type": "code",
      "source": [
        "# help(LinearRegression)\n",
        "X_test_poly, y_test, y_hat"
      ],
      "metadata": {
        "colab": {
          "base_uri": "https://localhost:8080/"
        },
        "id": "BJbc_feDPupj",
        "outputId": "505e1084-1393-4c7e-85f4-64638992e835"
      },
      "execution_count": 458,
      "outputs": [
        {
          "output_type": "execute_result",
          "data": {
            "text/plain": [
              "(array([[1.00000000e+00, 9.96737913e+01, 1.02194107e+02, 9.93486468e+03,\n",
              "         1.01860741e+04, 1.04436355e+04],\n",
              "        [1.00000000e+00, 1.00781193e+02, 1.02010281e+02, 1.01568489e+04,\n",
              "         1.02807178e+04, 1.04060974e+04],\n",
              "        [1.00000000e+00, 1.01968225e+02, 1.02600064e+02, 1.03975190e+04,\n",
              "         1.04619465e+04, 1.05267732e+04],\n",
              "        [1.00000000e+00, 1.00528928e+02, 9.92019159e+01, 1.01060653e+04,\n",
              "         9.97266224e+03, 9.84102011e+03],\n",
              "        [1.00000000e+00, 1.01405850e+02, 1.01625733e+02, 1.02831464e+04,\n",
              "         1.03054438e+04, 1.03277896e+04],\n",
              "        [1.00000000e+00, 1.00391356e+02, 1.02678458e+02, 1.00784244e+04,\n",
              "         1.03080296e+04, 1.05428657e+04],\n",
              "        [1.00000000e+00, 9.84611481e+01, 9.97214370e+01, 9.69459769e+03,\n",
              "         9.81868718e+03, 9.94436500e+03],\n",
              "        [1.00000000e+00, 9.83532473e+01, 1.03490159e+02, 9.67336126e+03,\n",
              "         1.01785933e+04, 1.07102131e+04],\n",
              "        [1.00000000e+00, 1.01448736e+02, 1.02552920e+02, 1.02918461e+04,\n",
              "         1.04038642e+04, 1.05171015e+04],\n",
              "        [1.00000000e+00, 9.91002205e+01, 1.02322105e+02, 9.82085371e+03,\n",
              "         1.01401432e+04, 1.04698132e+04]]),\n",
              " array([2060.32973584, 2128.85672753, 2205.09764661, 1348.77059737,\n",
              "        2516.93325188,  934.92709854, 1816.12950056, 1917.29835396,\n",
              "        2374.63636936, 1913.47016426]),\n",
              " array([2088.94513442, 2102.28869874, 2101.48228983, 2096.03715674,\n",
              "        2110.8390074 , 2028.23264578, 2475.23570927, 1763.60423348,\n",
              "        2079.386575  , 2072.74941644]))"
            ]
          },
          "metadata": {},
          "execution_count": 458
        }
      ]
    }
  ]
}