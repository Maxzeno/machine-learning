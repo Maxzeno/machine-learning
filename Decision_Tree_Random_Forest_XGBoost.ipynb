{
  "nbformat": 4,
  "nbformat_minor": 0,
  "metadata": {
    "colab": {
      "provenance": [],
      "authorship_tag": "ABX9TyPq6baPMEtNq5crAPqF6LRI",
      "include_colab_link": true
    },
    "kernelspec": {
      "name": "python3",
      "display_name": "Python 3"
    },
    "language_info": {
      "name": "python"
    }
  },
  "cells": [
    {
      "cell_type": "markdown",
      "metadata": {
        "id": "view-in-github",
        "colab_type": "text"
      },
      "source": [
        "<a href=\"https://colab.research.google.com/github/Maxzeno/machine-learning/blob/main/Decision_Tree_Random_Forest_XGBoost.ipynb\" target=\"_parent\"><img src=\"https://colab.research.google.com/assets/colab-badge.svg\" alt=\"Open In Colab\"/></a>"
      ]
    },
    {
      "cell_type": "code",
      "source": [
        "import numpy as np\n",
        "from sklearn.datasets import load_iris\n",
        "from sklearn.model_selection import train_test_split\n",
        "from sklearn.tree import DecisionTreeClassifier\n",
        "from sklearn.ensemble import RandomForestClassifier\n",
        "from xgboost import XGBClassifier\n",
        "from sklearn.metrics import accuracy_score"
      ],
      "metadata": {
        "id": "wNh0baZflVDj"
      },
      "execution_count": 5,
      "outputs": []
    },
    {
      "cell_type": "code",
      "source": [
        "# Load the Iris dataset\n",
        "data = load_iris()\n",
        "X = data.data\n",
        "y = data.target\n",
        "\n",
        "# Split the data into training and test sets\n",
        "X_train, X_test, y_train, y_test = train_test_split(X, y, test_size=0.2, random_state=42)"
      ],
      "metadata": {
        "id": "LQZ9e64HXv41"
      },
      "execution_count": 6,
      "outputs": []
    },
    {
      "cell_type": "code",
      "source": [
        "# Decision Tree Classifier\n",
        "decision_tree = DecisionTreeClassifier()\n",
        "decision_tree.fit(X_train, y_train)\n",
        "y_pred_dt = decision_tree.predict(X_test)\n",
        "accuracy_dt = accuracy_score(y_test, y_pred_dt)\n",
        "print(\"Decision Tree Accuracy:\", accuracy_dt)"
      ],
      "metadata": {
        "id": "XZhbzAGtM1vm",
        "outputId": "b705b204-d51f-4d93-efa6-642a061455db",
        "colab": {
          "base_uri": "https://localhost:8080/"
        }
      },
      "execution_count": 7,
      "outputs": [
        {
          "output_type": "stream",
          "name": "stdout",
          "text": [
            "Decision Tree Accuracy: 1.0\n"
          ]
        }
      ]
    },
    {
      "cell_type": "code",
      "source": [
        "# Random Forest Classifier\n",
        "random_forest = RandomForestClassifier()\n",
        "random_forest.fit(X_train, y_train)\n",
        "y_pred_rf = random_forest.predict(X_test)\n",
        "accuracy_rf = accuracy_score(y_test, y_pred_rf)\n",
        "print(\"Random Forest Accuracy:\", accuracy_rf)\n"
      ],
      "metadata": {
        "id": "j62ssjgqM4jE",
        "outputId": "65e9c179-9446-42de-a862-d6722e376f42",
        "colab": {
          "base_uri": "https://localhost:8080/"
        }
      },
      "execution_count": 8,
      "outputs": [
        {
          "output_type": "stream",
          "name": "stdout",
          "text": [
            "Random Forest Accuracy: 1.0\n"
          ]
        }
      ]
    },
    {
      "cell_type": "code",
      "source": [
        "# XGBoost Classifier\n",
        "xgboost = XGBClassifier()\n",
        "xgboost.fit(X_train, y_train)\n",
        "y_pred_xgb = xgboost.predict(X_test)\n",
        "accuracy_xgb = accuracy_score(y_test, y_pred_xgb)\n",
        "print(\"XGBoost Accuracy:\", accuracy_xgb)\n"
      ],
      "metadata": {
        "id": "_u-7BfZBM3J-",
        "outputId": "e51ef57d-80b5-45ea-a4a8-b3721b3553f2",
        "colab": {
          "base_uri": "https://localhost:8080/"
        }
      },
      "execution_count": 9,
      "outputs": [
        {
          "output_type": "stream",
          "name": "stdout",
          "text": [
            "XGBoost Accuracy: 1.0\n"
          ]
        }
      ]
    },
    {
      "cell_type": "code",
      "execution_count": 10,
      "metadata": {
        "id": "ICoGB71Zg99G"
      },
      "outputs": [],
      "source": [
        "\n",
        "array = np.array([[1651.  ,  432.65],\n",
        "       [1691.82,  454.94],\n",
        "       [1732.63,  471.53],\n",
        "       [1773.45,  482.51],\n",
        "       [1814.27,  468.36],\n",
        "       [1855.08,  482.15],\n",
        "       [1895.9 ,  540.02],\n",
        "       [1936.71,  534.58],\n",
        "       [1977.53,  558.35],\n",
        "       [2018.35,  566.42],\n",
        "       [2059.16,  581.4 ],\n",
        "       [2099.98,  596.46],\n",
        "       [2140.8 ,  596.71],\n",
        "       [2181.61,  619.45],\n",
        "       [2222.43,  616.58],\n",
        "       [2263.24,  653.16],\n",
        "       [2304.06,  666.52],\n",
        "       [2344.88,  670.59],\n",
        "       [2385.69,  669.02],\n",
        "       [2426.51,  678.91],\n",
        "       [2467.33,  707.44],\n",
        "       [2508.14,  710.76],\n",
        "       [2548.96,  745.19],\n",
        "       [2589.78,  729.85],\n",
        "       [2630.59,  743.8 ],\n",
        "       [2671.41,  738.2 ],\n",
        "       [2712.22,  772.95],\n",
        "       [2753.04,  772.22],\n",
        "       [2793.86,  784.21],\n",
        "       [2834.67,  776.43],\n",
        "       [2875.49,  804.78],\n",
        "       [2916.31,  833.27],\n",
        "       [2957.12,  825.69],\n",
        "       [2997.94,  821.05],\n",
        "       [3038.76,  833.82],\n",
        "       [3079.57,  833.06],\n",
        "       [3120.39,  825.7 ],\n",
        "       [3161.2 ,  843.58],\n",
        "       [3202.02,  869.4 ],\n",
        "       [3242.84,  851.5 ],\n",
        "       [3283.65,  863.18],\n",
        "       [3324.47,  853.01],\n",
        "       [3365.29,  877.16],\n",
        "       [3406.1 ,  863.74],\n",
        "       [3446.92,  874.67],\n",
        "       [3487.73,  877.74],\n",
        "       [3528.55,  874.11],\n",
        "       [3569.37,  882.8 ],\n",
        "       [3610.18,  910.83],\n",
        "       [3651.  ,  897.42]])"
      ]
    }
  ]
}