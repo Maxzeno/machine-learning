{
  "nbformat": 4,
  "nbformat_minor": 0,
  "metadata": {
    "colab": {
      "provenance": [],
      "authorship_tag": "ABX9TyMsmJc5fzPCx+7FWXtlfPK+",
      "include_colab_link": true
    },
    "kernelspec": {
      "name": "python3",
      "display_name": "Python 3"
    },
    "language_info": {
      "name": "python"
    },
    "gpuClass": "standard"
  },
  "cells": [
    {
      "cell_type": "markdown",
      "metadata": {
        "id": "view-in-github",
        "colab_type": "text"
      },
      "source": [
        "<a href=\"https://colab.research.google.com/github/Maxzeno/machine-learning/blob/main/00_pytorch_fundamentals_video.ipynb\" target=\"_parent\"><img src=\"https://colab.research.google.com/assets/colab-badge.svg\" alt=\"Open In Colab\"/></a>"
      ]
    },
    {
      "cell_type": "code",
      "source": [
        "import torch\n",
        "import numpy as np\n",
        "import pandas as pd\n",
        "import matplotlib.pyplot as plt"
      ],
      "metadata": {
        "id": "lscYtLjQ7OjV"
      },
      "execution_count": 25,
      "outputs": []
    },
    {
      "cell_type": "code",
      "source": [
        "scalar = torch.tensor(3, dtype=torch.int8)\n",
        "# .item() returns the python data type for a scalar eg. tensor(5) return 5 \n",
        "scalar.dtype"
      ],
      "metadata": {
        "colab": {
          "base_uri": "https://localhost:8080/"
        },
        "id": "wYLS2ZzC92cL",
        "outputId": "40e97c88-ba33-47e2-b383-2d0e0f39cda9"
      },
      "execution_count": 26,
      "outputs": [
        {
          "output_type": "execute_result",
          "data": {
            "text/plain": [
              "torch.int8"
            ]
          },
          "metadata": {},
          "execution_count": 26
        }
      ]
    },
    {
      "cell_type": "code",
      "source": [
        "vector = torch.tensor([5, 6])\n",
        "(vector*2).sum()\n",
        "vector.ndim, vector.shape"
      ],
      "metadata": {
        "colab": {
          "base_uri": "https://localhost:8080/"
        },
        "id": "3n2Y73m_AI-N",
        "outputId": "0819a045-ae30-4a69-b6bd-ed4035519db6"
      },
      "execution_count": 27,
      "outputs": [
        {
          "output_type": "execute_result",
          "data": {
            "text/plain": [
              "(1, torch.Size([2]))"
            ]
          },
          "metadata": {},
          "execution_count": 27
        }
      ]
    },
    {
      "cell_type": "code",
      "source": [
        "MATRIX = torch.tensor([[5, 2],\n",
        "                       [7, 9]])\n",
        "MATRIX\n",
        "MATRIX[0]"
      ],
      "metadata": {
        "colab": {
          "base_uri": "https://localhost:8080/"
        },
        "id": "71dKdvnaBi5k",
        "outputId": "09acf479-efdd-4767-efe3-60797ede77d9"
      },
      "execution_count": 28,
      "outputs": [
        {
          "output_type": "execute_result",
          "data": {
            "text/plain": [
              "tensor([5, 2])"
            ]
          },
          "metadata": {},
          "execution_count": 28
        }
      ]
    },
    {
      "cell_type": "code",
      "source": [
        "TENSOR = torch.tensor([[[[2, 8, 6],\n",
        "                        [4, 5, 6],\n",
        "                        [8, 9, 3]]]])\n",
        "TENSOR.shape"
      ],
      "metadata": {
        "colab": {
          "base_uri": "https://localhost:8080/"
        },
        "id": "yiTSjOS9B8st",
        "outputId": "cfe5654a-3946-436a-881c-0de4977903be"
      },
      "execution_count": 29,
      "outputs": [
        {
          "output_type": "execute_result",
          "data": {
            "text/plain": [
              "torch.Size([1, 1, 3, 3])"
            ]
          },
          "metadata": {},
          "execution_count": 29
        }
      ]
    },
    {
      "cell_type": "markdown",
      "source": [
        "###Random Tensors"
      ],
      "metadata": {
        "id": "ZNWcS3JkDbof"
      }
    },
    {
      "cell_type": "code",
      "source": [
        "random_tensor = torch.rand(size=(5, 9))\n",
        "random_tensor"
      ],
      "metadata": {
        "colab": {
          "base_uri": "https://localhost:8080/"
        },
        "id": "PhKCzLmoDizD",
        "outputId": "d2ed69dc-8001-4c73-8841-3979a073c532"
      },
      "execution_count": 30,
      "outputs": [
        {
          "output_type": "execute_result",
          "data": {
            "text/plain": [
              "tensor([[0.3955, 0.5670, 0.4280, 0.4308, 0.6680, 0.0104, 0.2018, 0.6606, 0.2057],\n",
              "        [0.4373, 0.9568, 0.1236, 0.4189, 0.4455, 0.5950, 0.7262, 0.2344, 0.6919],\n",
              "        [0.4120, 0.8440, 0.9889, 0.4637, 0.1260, 0.6415, 0.2094, 0.8010, 0.2828],\n",
              "        [0.9886, 0.9565, 0.8205, 0.9341, 0.3787, 0.1898, 0.8851, 0.2545, 0.4857],\n",
              "        [0.7332, 0.7734, 0.0121, 0.2701, 0.6939, 0.4663, 0.6038, 0.2779, 0.2309]])"
            ]
          },
          "metadata": {},
          "execution_count": 30
        }
      ]
    },
    {
      "cell_type": "code",
      "source": [
        "random_tensor[0:3, 1:5]"
      ],
      "metadata": {
        "colab": {
          "base_uri": "https://localhost:8080/"
        },
        "id": "CM2b_L1rGzmW",
        "outputId": "2c276292-aa7e-482a-da27-242c6bfc6e21"
      },
      "execution_count": 31,
      "outputs": [
        {
          "output_type": "execute_result",
          "data": {
            "text/plain": [
              "tensor([[0.5670, 0.4280, 0.4308, 0.6680],\n",
              "        [0.9568, 0.1236, 0.4189, 0.4455],\n",
              "        [0.8440, 0.9889, 0.4637, 0.1260]])"
            ]
          },
          "metadata": {},
          "execution_count": 31
        }
      ]
    },
    {
      "cell_type": "code",
      "source": [
        "zero = torch.zeros(3, 4)\n",
        "zero * random_tensor[0:3, 1:5]\n"
      ],
      "metadata": {
        "colab": {
          "base_uri": "https://localhost:8080/"
        },
        "id": "3QH7IeYJGKFi",
        "outputId": "5822476d-5ab6-4e46-a9af-de1a96c530cf"
      },
      "execution_count": 32,
      "outputs": [
        {
          "output_type": "execute_result",
          "data": {
            "text/plain": [
              "tensor([[0., 0., 0., 0.],\n",
              "        [0., 0., 0., 0.],\n",
              "        [0., 0., 0., 0.]])"
            ]
          },
          "metadata": {},
          "execution_count": 32
        }
      ]
    },
    {
      "cell_type": "code",
      "source": [
        "arange = torch.arange(1, 50, 2)\n",
        "arange"
      ],
      "metadata": {
        "colab": {
          "base_uri": "https://localhost:8080/"
        },
        "id": "9gnL-jkdH_GF",
        "outputId": "add63deb-20b6-4914-fe64-8a575fc78c3b"
      },
      "execution_count": 33,
      "outputs": [
        {
          "output_type": "execute_result",
          "data": {
            "text/plain": [
              "tensor([ 1,  3,  5,  7,  9, 11, 13, 15, 17, 19, 21, 23, 25, 27, 29, 31, 33, 35,\n",
              "        37, 39, 41, 43, 45, 47, 49])"
            ]
          },
          "metadata": {},
          "execution_count": 33
        }
      ]
    },
    {
      "cell_type": "code",
      "source": [
        "# creating tensors like\n",
        "torch.zeros(arange.shape, dtype=arange.dtype)"
      ],
      "metadata": {
        "colab": {
          "base_uri": "https://localhost:8080/"
        },
        "id": "WDboagJ5I6cr",
        "outputId": "5ed9b544-af86-4d58-b396-498b298eaae9"
      },
      "execution_count": 34,
      "outputs": [
        {
          "output_type": "execute_result",
          "data": {
            "text/plain": [
              "tensor([0, 0, 0, 0, 0, 0, 0, 0, 0, 0, 0, 0, 0, 0, 0, 0, 0, 0, 0, 0, 0, 0, 0, 0,\n",
              "        0])"
            ]
          },
          "metadata": {},
          "execution_count": 34
        }
      ]
    },
    {
      "cell_type": "code",
      "source": [
        "torch.ones_like(input=arange)"
      ],
      "metadata": {
        "colab": {
          "base_uri": "https://localhost:8080/"
        },
        "id": "6OY6zo2vJTNn",
        "outputId": "c1e38fc4-ff3a-4534-d90d-5c18b91c957d"
      },
      "execution_count": 35,
      "outputs": [
        {
          "output_type": "execute_result",
          "data": {
            "text/plain": [
              "tensor([1, 1, 1, 1, 1, 1, 1, 1, 1, 1, 1, 1, 1, 1, 1, 1, 1, 1, 1, 1, 1, 1, 1, 1,\n",
              "        1])"
            ]
          },
          "metadata": {},
          "execution_count": 35
        }
      ]
    },
    {
      "cell_type": "code",
      "source": [
        "torch.full_like(input=arange, fill_value=1.2, dtype=torch.float64)"
      ],
      "metadata": {
        "colab": {
          "base_uri": "https://localhost:8080/"
        },
        "id": "N1Ap0Cg-J7Rd",
        "outputId": "08ae0e09-230c-4338-9b86-414ffd4729f8"
      },
      "execution_count": 36,
      "outputs": [
        {
          "output_type": "execute_result",
          "data": {
            "text/plain": [
              "tensor([1.2000, 1.2000, 1.2000, 1.2000, 1.2000, 1.2000, 1.2000, 1.2000, 1.2000,\n",
              "        1.2000, 1.2000, 1.2000, 1.2000, 1.2000, 1.2000, 1.2000, 1.2000, 1.2000,\n",
              "        1.2000, 1.2000, 1.2000, 1.2000, 1.2000, 1.2000, 1.2000],\n",
              "       dtype=torch.float64)"
            ]
          },
          "metadata": {},
          "execution_count": 36
        }
      ]
    },
    {
      "cell_type": "code",
      "source": [
        "f = torch.tensor([[1, 2], [8, 9], [5, 8]], dtype=torch.int64)\n",
        "\n",
        "t = torch.tensor([[5, 5], [6, 2]], dtype=torch.int64)"
      ],
      "metadata": {
        "id": "wzUsSuR7K7VF"
      },
      "execution_count": 37,
      "outputs": []
    },
    {
      "cell_type": "code",
      "source": [
        "torch.matmul(f, t)"
      ],
      "metadata": {
        "colab": {
          "base_uri": "https://localhost:8080/"
        },
        "id": "wp0zaqZeQ1Kj",
        "outputId": "1c4803e7-7826-4549-88bc-9211f042540d"
      },
      "execution_count": 38,
      "outputs": [
        {
          "output_type": "execute_result",
          "data": {
            "text/plain": [
              "tensor([[17,  9],\n",
              "        [94, 58],\n",
              "        [73, 41]])"
            ]
          },
          "metadata": {},
          "execution_count": 38
        }
      ]
    },
    {
      "cell_type": "code",
      "source": [
        "ar = torch.arange(1, 7)\n",
        "ar = ar.reshape(3, 2)"
      ],
      "metadata": {
        "id": "NXSJ3_XaOlxq"
      },
      "execution_count": 39,
      "outputs": []
    },
    {
      "cell_type": "code",
      "source": [
        "ar2 = torch.arange(7, 13)\n",
        "ar2 = ar2.reshape(2, 3).T"
      ],
      "metadata": {
        "id": "gmiGBW6iaZfK"
      },
      "execution_count": 40,
      "outputs": []
    },
    {
      "cell_type": "code",
      "source": [
        "torch.mm(ar, ar2.T)"
      ],
      "metadata": {
        "colab": {
          "base_uri": "https://localhost:8080/"
        },
        "id": "uxAquiHZazJK",
        "outputId": "71bb473d-93f9-4a42-b04f-4b7f1469a965"
      },
      "execution_count": 41,
      "outputs": [
        {
          "output_type": "execute_result",
          "data": {
            "text/plain": [
              "tensor([[ 27,  30,  33],\n",
              "        [ 61,  68,  75],\n",
              "        [ 95, 106, 117]])"
            ]
          },
          "metadata": {},
          "execution_count": 41
        }
      ]
    },
    {
      "cell_type": "code",
      "source": [
        "ar.type(torch.float32).mean()"
      ],
      "metadata": {
        "colab": {
          "base_uri": "https://localhost:8080/"
        },
        "id": "ktvNDkqc6aVw",
        "outputId": "0cee7904-aa02-4ee6-ae93-8a27af8e0afa"
      },
      "execution_count": 42,
      "outputs": [
        {
          "output_type": "execute_result",
          "data": {
            "text/plain": [
              "tensor(3.5000)"
            ]
          },
          "metadata": {},
          "execution_count": 42
        }
      ]
    },
    {
      "cell_type": "code",
      "source": [
        "(ar.argmin() == 0).to(torch.int8)"
      ],
      "metadata": {
        "colab": {
          "base_uri": "https://localhost:8080/"
        },
        "id": "dNf3fpCG7HSW",
        "outputId": "ddc3b7a0-45a6-4d29-82a7-80de0aabf521"
      },
      "execution_count": 43,
      "outputs": [
        {
          "output_type": "execute_result",
          "data": {
            "text/plain": [
              "tensor(1, dtype=torch.int8)"
            ]
          },
          "metadata": {},
          "execution_count": 43
        }
      ]
    },
    {
      "cell_type": "code",
      "source": [
        "x = torch.arange(1., 11.)\n",
        "x.shape, x.ndim, x\n",
        "rex1 = x.reshape(1, 10)\n",
        "rex1.shape, rex1.ndim, rex1\n",
        "x.reshape(10)"
      ],
      "metadata": {
        "colab": {
          "base_uri": "https://localhost:8080/"
        },
        "id": "KNgnsr6W9lMA",
        "outputId": "514c53f1-66ec-4c4f-e5e5-3bf3f2d0a3d3"
      },
      "execution_count": 44,
      "outputs": [
        {
          "output_type": "execute_result",
          "data": {
            "text/plain": [
              "tensor([ 1.,  2.,  3.,  4.,  5.,  6.,  7.,  8.,  9., 10.])"
            ]
          },
          "metadata": {},
          "execution_count": 44
        }
      ]
    },
    {
      "cell_type": "code",
      "source": [
        "z = x.view(1, 10)\n",
        "z[:, 0:2] = torch.tensor([5, 60])\n",
        "x, z"
      ],
      "metadata": {
        "colab": {
          "base_uri": "https://localhost:8080/"
        },
        "id": "D3exvQXy_wjU",
        "outputId": "b31637fd-a23d-44b4-c897-fd0d5133a9b5"
      },
      "execution_count": 45,
      "outputs": [
        {
          "output_type": "execute_result",
          "data": {
            "text/plain": [
              "(tensor([ 5., 60.,  3.,  4.,  5.,  6.,  7.,  8.,  9., 10.]),\n",
              " tensor([[ 5., 60.,  3.,  4.,  5.,  6.,  7.,  8.,  9., 10.]]))"
            ]
          },
          "metadata": {},
          "execution_count": 45
        }
      ]
    },
    {
      "cell_type": "code",
      "source": [
        "x_stack = torch.stack([x], dim=0)\n",
        "x_stack.shape, x_stack.ndim, x_stack"
      ],
      "metadata": {
        "colab": {
          "base_uri": "https://localhost:8080/"
        },
        "id": "RaxddbikAPO2",
        "outputId": "602c3874-073e-4f8d-f834-d30d2ecf1ea8"
      },
      "execution_count": 46,
      "outputs": [
        {
          "output_type": "execute_result",
          "data": {
            "text/plain": [
              "(torch.Size([1, 10]),\n",
              " 2,\n",
              " tensor([[ 5., 60.,  3.,  4.,  5.,  6.,  7.,  8.,  9., 10.]]))"
            ]
          },
          "metadata": {},
          "execution_count": 46
        }
      ]
    },
    {
      "cell_type": "code",
      "source": [
        "sq = torch.squeeze(rex1)\n",
        "sq, rex1\n",
        "unsq = torch.unsqueeze(rex1, dim=1)\n",
        "unsq.shape"
      ],
      "metadata": {
        "colab": {
          "base_uri": "https://localhost:8080/"
        },
        "id": "wUi00VcSBSco",
        "outputId": "21d5c13c-e36c-4e7f-8987-9c678672dcd5"
      },
      "execution_count": 47,
      "outputs": [
        {
          "output_type": "execute_result",
          "data": {
            "text/plain": [
              "torch.Size([1, 1, 10])"
            ]
          },
          "metadata": {},
          "execution_count": 47
        }
      ]
    },
    {
      "cell_type": "code",
      "source": [
        "# ar.permute()\n",
        "arr = torch.stack([ar], dim=0)\n",
        "arr.shape\n",
        "arp = arr.permute(2, 1, 0)\n",
        "arp[0, 0, 0] = 500"
      ],
      "metadata": {
        "id": "eqQRM33NC86m"
      },
      "execution_count": 48,
      "outputs": []
    },
    {
      "cell_type": "code",
      "source": [
        "arr, arp"
      ],
      "metadata": {
        "colab": {
          "base_uri": "https://localhost:8080/"
        },
        "id": "GHw071ZpF9nZ",
        "outputId": "a07e7cef-d1bd-4baf-877a-bb5a1e29c29c"
      },
      "execution_count": 49,
      "outputs": [
        {
          "output_type": "execute_result",
          "data": {
            "text/plain": [
              "(tensor([[[500,   2],\n",
              "          [  3,   4],\n",
              "          [  5,   6]]]),\n",
              " tensor([[[500],\n",
              "          [  3],\n",
              "          [  5]],\n",
              " \n",
              "         [[  2],\n",
              "          [  4],\n",
              "          [  6]]]))"
            ]
          },
          "metadata": {},
          "execution_count": 49
        }
      ]
    },
    {
      "cell_type": "code",
      "source": [
        "a = torch.arange(1, 10).reshape(1, 3, 3)\n",
        "a[0, :, 2]\n",
        "a[0, 2]\n",
        "np1 = np.arange(1., 5.)\n",
        "np1.dtype\n"
      ],
      "metadata": {
        "colab": {
          "base_uri": "https://localhost:8080/"
        },
        "id": "o0eH45NQIe1H",
        "outputId": "b1cf8187-490b-40a2-91d4-1b82a51133af"
      },
      "execution_count": 50,
      "outputs": [
        {
          "output_type": "execute_result",
          "data": {
            "text/plain": [
              "dtype('float64')"
            ]
          },
          "metadata": {},
          "execution_count": 50
        }
      ]
    },
    {
      "cell_type": "code",
      "source": [
        "torch.tensor(np1).to(torch.float32).dtype"
      ],
      "metadata": {
        "colab": {
          "base_uri": "https://localhost:8080/"
        },
        "id": "OK9edr2IUJtV",
        "outputId": "ed626f7d-719e-46e8-fd9c-d5293c06eb2b"
      },
      "execution_count": 63,
      "outputs": [
        {
          "output_type": "execute_result",
          "data": {
            "text/plain": [
              "torch.float32"
            ]
          },
          "metadata": {},
          "execution_count": 63
        }
      ]
    },
    {
      "cell_type": "code",
      "source": [
        "torch.manual_seed(42)\n",
        "rand1 = torch.rand(3, 4)\n",
        "\n",
        "torch.manual_seed(42)\n",
        "rand2 = torch.rand(3, 4)\n",
        "print(rand1)\n",
        "print(rand2)"
      ],
      "metadata": {
        "colab": {
          "base_uri": "https://localhost:8080/"
        },
        "id": "5f4GPS9Xq4GQ",
        "outputId": "916e61e4-6f7c-45a2-ae1c-600881a60850"
      },
      "execution_count": 65,
      "outputs": [
        {
          "output_type": "stream",
          "name": "stdout",
          "text": [
            "tensor([[0.8823, 0.9150, 0.3829, 0.9593],\n",
            "        [0.3904, 0.6009, 0.2566, 0.7936],\n",
            "        [0.9408, 0.1332, 0.9346, 0.5936]])\n",
            "tensor([[0.8823, 0.9150, 0.3829, 0.9593],\n",
            "        [0.3904, 0.6009, 0.2566, 0.7936],\n",
            "        [0.9408, 0.1332, 0.9346, 0.5936]])\n"
          ]
        }
      ]
    },
    {
      "cell_type": "code",
      "source": [],
      "metadata": {
        "id": "4nMFOxGFsgG2"
      },
      "execution_count": null,
      "outputs": []
    }
  ]
}